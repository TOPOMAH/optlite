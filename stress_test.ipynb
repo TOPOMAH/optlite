{
 "cells": [
  {
   "cell_type": "code",
   "execution_count": null,
   "metadata": {},
   "outputs": [],
   "source": [
    "a = [0]*10000\n",
    "print(a)\n",
    "\n",
    "\n",
    "#takes around a minute running and\n",
    "# sometimes works while sometimes browser gives error ('page not responding, wait or exit')\n",
    "\n",
    "#Permalink:  https://dive4dec.github.io/optlite/live.html#code=a%3D%5B0%5D*10000%0Aprint%28a%29&curInstr=2&mode=display&origin=opt-live.js&py=pyodide&rawInputLstJSON=%5B%5D"
   ]
  },
  {
   "cell_type": "code",
   "execution_count": null,
   "metadata": {},
   "outputs": [],
   "source": [
    "def f(n):\n",
    "    return f(2**n)\n",
    "    \n",
    "f(1)\n",
    "\n",
    "#takes around a minute running and \n",
    "# gives error MemoryError: (UNSUPPORTED FEATURES)\n",
    "\n",
    "#Permalink:   https://dive4dec.github.io/optlite/live.html#code=def%20f%28n%29%3A%0A%20%20%20%20return%20f%282**n%29%0A%20%20%20%20%0Af%281%29&curInstr=14&mode=display&origin=opt-live.js&py=pyodide&rawInputLstJSON=%5B%5D"
   ]
  },
  {
   "cell_type": "code",
   "execution_count": null,
   "metadata": {},
   "outputs": [],
   "source": [
    "for i in range(0,1000):\n",
    "    print(i)\n",
    "\n",
    "\n",
    "#runs for 3-5 seconds and stops\n",
    "#Stopped since this run produced more than 2MB of data.\n",
    "\n",
    "#Permalink:  https://dive4dec.github.io/optlite/live.html#code=for%20i%20in%20range%280,1000%29%3A%0A%20%20%20%20print%28i%29%0A&curInstr=1788&mode=display&origin=opt-live.js&py=pyodide&rawInputLstJSON=%5B%5D"
   ]
  },
  {
   "cell_type": "code",
   "execution_count": null,
   "metadata": {},
   "outputs": [],
   "source": [
    "def f(n):\n",
    "    return n*f(n-1)\n",
    "    \n",
    "f(2)\n",
    "\n",
    "\n",
    "#Stopped since stack has 30 functions on it.\n",
    "#You may have infinite recursion. [#RecursionError] \n",
    "\n",
    "#Permalink:   https://dive4dec.github.io/optlite/live.html#code=def%20f%28n%29%3A%0A%20%20%20%20return%20n*f%28n-1%29%0A%20%20%20%20%0Af%282%29&curInstr=62&mode=display&origin=opt-live.js&py=pyodide&rawInputLstJSON=%5B%5D"
   ]
  },
  {
   "cell_type": "code",
   "execution_count": null,
   "metadata": {},
   "outputs": [],
   "source": [
    "def f(n):\n",
    "    if n==1:\n",
    "        return 1\n",
    "    \n",
    "    if n==2:\n",
    "        return 1\n",
    "\n",
    "    return f(n-1)+f(n-2)\n",
    "    \n",
    "    \n",
    "f(13)\n",
    "\n",
    "\n",
    "#Stopped since this run produced more than 2MB of data.\n",
    "\n",
    "#Permalink:   https://dive4dec.github.io/optlite/live.html#code=def%20f%28n%29%3A%0A%20%20%20%20if%20n%3D%3D1%3A%0A%20%20%20%20%20%20%20%20return%201%0A%20%20%20%20%0A%20%20%20%20if%20n%3D%3D2%3A%0A%20%20%20%20%20%20%20%20return%201%0A%0A%20%20%20%20return%20f%28n-1%29%2Bf%28n-2%29%0A%20%20%20%20%0A%20%20%20%20%0Af%2813%29&curInstr=1788&mode=display&origin=opt-live.js&py=pyodide&rawInputLstJSON=%5B%5D"
   ]
  }
 ],
 "metadata": {
  "language_info": {
   "name": "python"
  },
  "orig_nbformat": 4
 },
 "nbformat": 4,
 "nbformat_minor": 2
}
